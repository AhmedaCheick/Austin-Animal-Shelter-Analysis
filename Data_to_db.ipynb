{
 "cells": [
  {
   "cell_type": "code",
   "execution_count": 21,
   "metadata": {},
   "outputs": [],
   "source": [
    "import requests\n",
    "import json\n",
    "from pprint import pprint\n",
    "import pandas as pd\n",
    "import datetime as dt\n",
    "import numpy as np\n",
    "from bs4 import BeautifulSoup as bs"
   ]
  },
  {
   "cell_type": "code",
   "execution_count": 22,
   "metadata": {},
   "outputs": [],
   "source": [
    "from mykeys import austin_key, gkey\n",
    "from dbfuncs import create_db_engine, drop_table, build_table, add_geodata\n",
    "from pathnames import AustinIncome_url, austin_url, outcome_dataset, intake_dataset\n",
    "from scrape_zipcodes import scrape_austin_income, zipcode_lookup, geo_lookup\n",
    "from animal_data import query_animal_data"
   ]
  },
  {
   "cell_type": "markdown",
   "metadata": {},
   "source": [
    "# Create the sqlite engine here with a function call. There will be multiple tables added to this db"
   ]
  },
  {
   "cell_type": "code",
   "execution_count": 23,
   "metadata": {},
   "outputs": [],
   "source": [
    "engine = create_db_engine(\"sqlite://\")"
   ]
  },
  {
   "cell_type": "markdown",
   "metadata": {},
   "source": [
    "# Collect the income by zipcode data through a web scrape"
   ]
  },
  {
   "cell_type": "code",
   "execution_count": 24,
   "metadata": {},
   "outputs": [],
   "source": [
    "income_df = scrape_austin_income(AustinIncome_url)"
   ]
  },
  {
   "cell_type": "markdown",
   "metadata": {},
   "source": [
    "# Modify a few of the column names"
   ]
  },
  {
   "cell_type": "code",
   "execution_count": 25,
   "metadata": {},
   "outputs": [],
   "source": [
    "\n",
    "chg_cols = {\"Zip Code\" : \"ZipCode\", \"Avg. Income/H/hold\": \"HouseholdIncome\", \"National Rank\" :\"NationalRank\"}\n",
    "income_df.rename(inplace=True, columns = chg_cols)\n"
   ]
  },
  {
   "cell_type": "markdown",
   "metadata": {},
   "source": [
    "# Build the db from Pandas with this table\n",
    "# Right now, this is just in memory, not stored. Need to decide. We could just \n",
    "# recreate every time the page is loaded."
   ]
  },
  {
   "cell_type": "code",
   "execution_count": 6,
   "metadata": {},
   "outputs": [],
   "source": [
    "build_table(income_df,\"austin_income\", engine)"
   ]
  },
  {
   "cell_type": "code",
   "execution_count": 7,
   "metadata": {},
   "outputs": [],
   "source": [
    "zipcodes = engine.execute('select * from austin_income').fetchall()"
   ]
  },
  {
   "cell_type": "code",
   "execution_count": 8,
   "metadata": {},
   "outputs": [
    {
     "name": "stdout",
     "output_type": "stream",
     "text": [
      "<class 'sqlalchemy.engine.result.RowProxy'>\n",
      "(0, '1.0', '78730', '30.363632, -97.850355', 'Austin, Texas', '4885', '$128,524.00', '#58')\n"
     ]
    }
   ],
   "source": [
    "print(type(zipcodes[0]))\n",
    "print(zipcodes[0])"
   ]
  },
  {
   "cell_type": "code",
   "execution_count": 9,
   "metadata": {},
   "outputs": [
    {
     "name": "stdout",
     "output_type": "stream",
     "text": [
      "78730\n"
     ]
    }
   ],
   "source": [
    "print(zipcodes[0].ZipCode)"
   ]
  },
  {
   "cell_type": "markdown",
   "metadata": {},
   "source": [
    "# Now to get the animal data"
   ]
  },
  {
   "cell_type": "code",
   "execution_count": 10,
   "metadata": {},
   "outputs": [
    {
     "data": {
      "text/html": [
       "<div>\n",
       "<style scoped>\n",
       "    .dataframe tbody tr th:only-of-type {\n",
       "        vertical-align: middle;\n",
       "    }\n",
       "\n",
       "    .dataframe tbody tr th {\n",
       "        vertical-align: top;\n",
       "    }\n",
       "\n",
       "    .dataframe thead th {\n",
       "        text-align: right;\n",
       "    }\n",
       "</style>\n",
       "<table border=\"1\" class=\"dataframe\">\n",
       "  <thead>\n",
       "    <tr style=\"text-align: right;\">\n",
       "      <th></th>\n",
       "      <th>age_upon_outcome</th>\n",
       "      <th>animal_id</th>\n",
       "      <th>animal_type</th>\n",
       "      <th>breed</th>\n",
       "      <th>color</th>\n",
       "      <th>date_of_birth</th>\n",
       "      <th>datetime</th>\n",
       "      <th>monthyear</th>\n",
       "      <th>name</th>\n",
       "      <th>outcome_subtype</th>\n",
       "      <th>outcome_type</th>\n",
       "      <th>sex_upon_outcome</th>\n",
       "    </tr>\n",
       "  </thead>\n",
       "  <tbody>\n",
       "    <tr>\n",
       "      <th>0</th>\n",
       "      <td>1 year</td>\n",
       "      <td>A777234</td>\n",
       "      <td>Dog</td>\n",
       "      <td>Pit Bull Mix</td>\n",
       "      <td>Blue/White</td>\n",
       "      <td>2017-11-25T00:00:00.000</td>\n",
       "      <td>2019-01-02T00:00:00.000</td>\n",
       "      <td>2019-01-02T00:00:00.000</td>\n",
       "      <td>Tyson</td>\n",
       "      <td>Partner</td>\n",
       "      <td>Transfer</td>\n",
       "      <td>Neutered Male</td>\n",
       "    </tr>\n",
       "    <tr>\n",
       "      <th>1</th>\n",
       "      <td>3 years</td>\n",
       "      <td>A783891</td>\n",
       "      <td>Dog</td>\n",
       "      <td>Border Terrier</td>\n",
       "      <td>Black/Tan</td>\n",
       "      <td>2015-11-08T00:00:00.000</td>\n",
       "      <td>2019-01-16T11:28:00.000</td>\n",
       "      <td>2019-01-16T11:28:00.000</td>\n",
       "      <td>Elizabeth T</td>\n",
       "      <td>Foster</td>\n",
       "      <td>Adoption</td>\n",
       "      <td>Spayed Female</td>\n",
       "    </tr>\n",
       "    <tr>\n",
       "      <th>2</th>\n",
       "      <td>10 months</td>\n",
       "      <td>A788493</td>\n",
       "      <td>Dog</td>\n",
       "      <td>Standard Poodle/Labrador Retriever</td>\n",
       "      <td>Cream</td>\n",
       "      <td>2018-04-03T00:00:00.000</td>\n",
       "      <td>2019-02-07T13:12:00.000</td>\n",
       "      <td>2019-02-07T13:12:00.000</td>\n",
       "      <td>NaN</td>\n",
       "      <td>Partner</td>\n",
       "      <td>Transfer</td>\n",
       "      <td>Neutered Male</td>\n",
       "    </tr>\n",
       "    <tr>\n",
       "      <th>3</th>\n",
       "      <td>4 years</td>\n",
       "      <td>A789594</td>\n",
       "      <td>Dog</td>\n",
       "      <td>Chihuahua Longhair Mix</td>\n",
       "      <td>Brown/Black</td>\n",
       "      <td>2015-02-24T00:00:00.000</td>\n",
       "      <td>2019-02-26T19:33:00.000</td>\n",
       "      <td>2019-02-26T19:33:00.000</td>\n",
       "      <td>Morena</td>\n",
       "      <td>NaN</td>\n",
       "      <td>Adoption</td>\n",
       "      <td>Spayed Female</td>\n",
       "    </tr>\n",
       "    <tr>\n",
       "      <th>4</th>\n",
       "      <td>10 years</td>\n",
       "      <td>A566568</td>\n",
       "      <td>Dog</td>\n",
       "      <td>Harrier Mix</td>\n",
       "      <td>Brown/Black</td>\n",
       "      <td>2009-02-12T00:00:00.000</td>\n",
       "      <td>2019-02-23T11:33:00.000</td>\n",
       "      <td>2019-02-23T11:33:00.000</td>\n",
       "      <td>Duck</td>\n",
       "      <td>NaN</td>\n",
       "      <td>Adoption</td>\n",
       "      <td>Neutered Male</td>\n",
       "    </tr>\n",
       "  </tbody>\n",
       "</table>\n",
       "</div>"
      ],
      "text/plain": [
       "  age_upon_outcome animal_id animal_type                               breed  \\\n",
       "0           1 year   A777234         Dog                        Pit Bull Mix   \n",
       "1          3 years   A783891         Dog                      Border Terrier   \n",
       "2        10 months   A788493         Dog  Standard Poodle/Labrador Retriever   \n",
       "3          4 years   A789594         Dog              Chihuahua Longhair Mix   \n",
       "4         10 years   A566568         Dog                         Harrier Mix   \n",
       "\n",
       "         color            date_of_birth                 datetime  \\\n",
       "0   Blue/White  2017-11-25T00:00:00.000  2019-01-02T00:00:00.000   \n",
       "1    Black/Tan  2015-11-08T00:00:00.000  2019-01-16T11:28:00.000   \n",
       "2        Cream  2018-04-03T00:00:00.000  2019-02-07T13:12:00.000   \n",
       "3  Brown/Black  2015-02-24T00:00:00.000  2019-02-26T19:33:00.000   \n",
       "4  Brown/Black  2009-02-12T00:00:00.000  2019-02-23T11:33:00.000   \n",
       "\n",
       "                 monthyear         name outcome_subtype outcome_type  \\\n",
       "0  2019-01-02T00:00:00.000        Tyson         Partner     Transfer   \n",
       "1  2019-01-16T11:28:00.000  Elizabeth T          Foster     Adoption   \n",
       "2  2019-02-07T13:12:00.000          NaN         Partner     Transfer   \n",
       "3  2019-02-26T19:33:00.000       Morena             NaN     Adoption   \n",
       "4  2019-02-23T11:33:00.000         Duck             NaN     Adoption   \n",
       "\n",
       "  sex_upon_outcome  \n",
       "0    Neutered Male  \n",
       "1    Spayed Female  \n",
       "2    Neutered Male  \n",
       "3    Spayed Female  \n",
       "4    Neutered Male  "
      ]
     },
     "execution_count": 10,
     "metadata": {},
     "output_type": "execute_result"
    }
   ],
   "source": [
    "outcome_df = query_animal_data(austin_url, outcome_dataset, \"'2019-01-01T00:00:00.000'\")\n",
    "outcome_df.head()\n"
   ]
  },
  {
   "cell_type": "code",
   "execution_count": 11,
   "metadata": {},
   "outputs": [],
   "source": [
    "build_table(outcome_df,\"austin_animal_outcomes\", engine)"
   ]
  },
  {
   "cell_type": "code",
   "execution_count": 12,
   "metadata": {},
   "outputs": [
    {
     "name": "stdout",
     "output_type": "stream",
     "text": [
      "[(1, '3 years', 'A783891', 'Dog', 'Border Terrier', 'Black/Tan', '2015-11-08T00:00:00.000', '2019-01-16T11:28:00.000', '2019-01-16T11:28:00.000', 'Elizabeth T', 'Foster', 'Adoption', 'Spayed Female'),\n",
      " (2, '10 months', 'A788493', 'Dog', 'Standard Poodle/Labrador Retriever', 'Cream', '2018-04-03T00:00:00.000', '2019-02-07T13:12:00.000', '2019-02-07T13:12:00.000', None, 'Partner', 'Transfer', 'Neutered Male'),\n",
      " (3, '4 years', 'A789594', 'Dog', 'Chihuahua Longhair Mix', 'Brown/Black', '2015-02-24T00:00:00.000', '2019-02-26T19:33:00.000', '2019-02-26T19:33:00.000', 'Morena', None, 'Adoption', 'Spayed Female'),\n",
      " (4, '10 years', 'A566568', 'Dog', 'Harrier Mix', 'Brown/Black', '2009-02-12T00:00:00.000', '2019-02-23T11:33:00.000', '2019-02-23T11:33:00.000', 'Duck', None, 'Adoption', 'Neutered Male'),\n",
      " (5, '1 year', 'A787340', 'Other', 'Bat Mix', 'Brown', '2018-01-11T00:00:00.000', '2019-01-11T14:53:00.000', '2019-01-11T14:53:00.000', None, 'Rabies Risk', 'Euthanasia', 'Unknown'),\n",
      " (6, '1 year', 'A785672', 'Dog', 'Boxer Mix', 'Brown/White', '2018-02-07T00:00:00.000', '2019-02-09T18:20:00.000', '2019-02-09T18:20:00.000', 'Simba', None, 'Adoption', 'Neutered Male'),\n",
      " (7, '1 year', 'A785924', 'Dog', 'Pit Bull Mix', 'Fawn/White', '2017-12-12T00:00:00.000', '2019-01-29T12:06:00.000', '2019-01-29T12:06:00.000', '*Peaches', 'Partner', 'Transfer', 'Intact Female'),\n",
      " (8, '2 months', 'A786751', 'Dog', 'German Shepherd', 'White', '2018-11-01T00:00:00.000', '2019-01-25T13:03:00.000', '2019-01-25T13:03:00.000', None, None, 'Adoption', 'Neutered Male'),\n",
      " (9, '10 months', 'A789417', 'Dog', 'Labrador Retriever Mix', 'Tan/White', '2018-04-21T00:00:00.000', '2019-02-27T12:28:00.000', '2019-02-27T12:28:00.000', None, 'Partner', 'Transfer', 'Intact Male')]\n"
     ]
    }
   ],
   "source": [
    "outcomes = engine.execute('select * from austin_animal_outcomes').fetchall()[1:10]\n",
    "pprint(outcomes)"
   ]
  },
  {
   "cell_type": "code",
   "execution_count": 13,
   "metadata": {
    "scrolled": true
   },
   "outputs": [
    {
     "data": {
      "text/html": [
       "<div>\n",
       "<style scoped>\n",
       "    .dataframe tbody tr th:only-of-type {\n",
       "        vertical-align: middle;\n",
       "    }\n",
       "\n",
       "    .dataframe tbody tr th {\n",
       "        vertical-align: top;\n",
       "    }\n",
       "\n",
       "    .dataframe thead th {\n",
       "        text-align: right;\n",
       "    }\n",
       "</style>\n",
       "<table border=\"1\" class=\"dataframe\">\n",
       "  <thead>\n",
       "    <tr style=\"text-align: right;\">\n",
       "      <th></th>\n",
       "      <th>age_upon_intake</th>\n",
       "      <th>animal_id</th>\n",
       "      <th>animal_type</th>\n",
       "      <th>breed</th>\n",
       "      <th>color</th>\n",
       "      <th>datetime</th>\n",
       "      <th>datetime2</th>\n",
       "      <th>found_location</th>\n",
       "      <th>intake_condition</th>\n",
       "      <th>intake_type</th>\n",
       "      <th>name</th>\n",
       "      <th>sex_upon_intake</th>\n",
       "    </tr>\n",
       "  </thead>\n",
       "  <tbody>\n",
       "    <tr>\n",
       "      <th>0</th>\n",
       "      <td>2 years</td>\n",
       "      <td>A786884</td>\n",
       "      <td>Dog</td>\n",
       "      <td>Beagle Mix</td>\n",
       "      <td>Tricolor</td>\n",
       "      <td>2019-01-03T16:19:00.000</td>\n",
       "      <td>2019-01-03T16:19:00.000</td>\n",
       "      <td>2501 Magin Meadow Dr in Austin (TX)</td>\n",
       "      <td>Normal</td>\n",
       "      <td>Stray</td>\n",
       "      <td>*Brock</td>\n",
       "      <td>Neutered Male</td>\n",
       "    </tr>\n",
       "    <tr>\n",
       "      <th>1</th>\n",
       "      <td>3 days</td>\n",
       "      <td>A787254</td>\n",
       "      <td>Dog</td>\n",
       "      <td>Black Mouth Cur Mix</td>\n",
       "      <td>Black/White</td>\n",
       "      <td>2019-01-10T10:19:00.000</td>\n",
       "      <td>2019-01-10T10:19:00.000</td>\n",
       "      <td>2000 Man O War in Travis (TX)</td>\n",
       "      <td>Normal</td>\n",
       "      <td>Stray</td>\n",
       "      <td>*Sprinkles</td>\n",
       "      <td>Intact Female</td>\n",
       "    </tr>\n",
       "    <tr>\n",
       "      <th>2</th>\n",
       "      <td>7 years</td>\n",
       "      <td>A760116</td>\n",
       "      <td>Dog</td>\n",
       "      <td>German Shepherd</td>\n",
       "      <td>Brown/Black</td>\n",
       "      <td>2019-01-07T12:07:00.000</td>\n",
       "      <td>2019-01-07T12:07:00.000</td>\n",
       "      <td>Austin (TX)</td>\n",
       "      <td>Normal</td>\n",
       "      <td>Owner Surrender</td>\n",
       "      <td>Jasmine</td>\n",
       "      <td>Spayed Female</td>\n",
       "    </tr>\n",
       "    <tr>\n",
       "      <th>3</th>\n",
       "      <td>3 years</td>\n",
       "      <td>A789406</td>\n",
       "      <td>Cat</td>\n",
       "      <td>Domestic Shorthair Mix</td>\n",
       "      <td>Brown Tabby</td>\n",
       "      <td>2019-02-21T14:55:00.000</td>\n",
       "      <td>2019-02-21T14:55:00.000</td>\n",
       "      <td>Austin (TX)</td>\n",
       "      <td>Normal</td>\n",
       "      <td>Public Assist</td>\n",
       "      <td>Liliana</td>\n",
       "      <td>Intact Female</td>\n",
       "    </tr>\n",
       "    <tr>\n",
       "      <th>4</th>\n",
       "      <td>4 years</td>\n",
       "      <td>A787054</td>\n",
       "      <td>Dog</td>\n",
       "      <td>Labrador Retriever Mix</td>\n",
       "      <td>Black/White</td>\n",
       "      <td>2019-01-24T15:17:00.000</td>\n",
       "      <td>2019-01-24T15:17:00.000</td>\n",
       "      <td>Austin (TX)</td>\n",
       "      <td>Normal</td>\n",
       "      <td>Owner Surrender</td>\n",
       "      <td>*Rexx</td>\n",
       "      <td>Neutered Male</td>\n",
       "    </tr>\n",
       "  </tbody>\n",
       "</table>\n",
       "</div>"
      ],
      "text/plain": [
       "  age_upon_intake animal_id animal_type                   breed        color  \\\n",
       "0         2 years   A786884         Dog              Beagle Mix     Tricolor   \n",
       "1          3 days   A787254         Dog     Black Mouth Cur Mix  Black/White   \n",
       "2         7 years   A760116         Dog         German Shepherd  Brown/Black   \n",
       "3         3 years   A789406         Cat  Domestic Shorthair Mix  Brown Tabby   \n",
       "4         4 years   A787054         Dog  Labrador Retriever Mix  Black/White   \n",
       "\n",
       "                  datetime                datetime2  \\\n",
       "0  2019-01-03T16:19:00.000  2019-01-03T16:19:00.000   \n",
       "1  2019-01-10T10:19:00.000  2019-01-10T10:19:00.000   \n",
       "2  2019-01-07T12:07:00.000  2019-01-07T12:07:00.000   \n",
       "3  2019-02-21T14:55:00.000  2019-02-21T14:55:00.000   \n",
       "4  2019-01-24T15:17:00.000  2019-01-24T15:17:00.000   \n",
       "\n",
       "                        found_location intake_condition      intake_type  \\\n",
       "0  2501 Magin Meadow Dr in Austin (TX)           Normal            Stray   \n",
       "1        2000 Man O War in Travis (TX)           Normal            Stray   \n",
       "2                          Austin (TX)           Normal  Owner Surrender   \n",
       "3                          Austin (TX)           Normal    Public Assist   \n",
       "4                          Austin (TX)           Normal  Owner Surrender   \n",
       "\n",
       "         name sex_upon_intake  \n",
       "0      *Brock   Neutered Male  \n",
       "1  *Sprinkles   Intact Female  \n",
       "2     Jasmine   Spayed Female  \n",
       "3     Liliana   Intact Female  \n",
       "4       *Rexx   Neutered Male  "
      ]
     },
     "execution_count": 13,
     "metadata": {},
     "output_type": "execute_result"
    }
   ],
   "source": [
    "intake_df = query_animal_data(austin_url, intake_dataset, \"'2019-01-01T00:00:00.000'\")\n",
    "intake_df.head()\n",
    "# intake_df = modify_intake_df(intake_df)"
   ]
  },
  {
   "cell_type": "code",
   "execution_count": 14,
   "metadata": {},
   "outputs": [],
   "source": [
    "build_table(intake_df,\"austin_animal_intake\", engine)"
   ]
  },
  {
   "cell_type": "code",
   "execution_count": 15,
   "metadata": {},
   "outputs": [
    {
     "name": "stdout",
     "output_type": "stream",
     "text": [
      "[(1, '3 days', 'A787254', 'Dog', 'Black Mouth Cur Mix', 'Black/White', '2019-01-10T10:19:00.000', '2019-01-10T10:19:00.000', '2000 Man O War in Travis (TX)', 'Normal', 'Stray', '*Sprinkles', 'Intact Female'),\n",
      " (2, '7 years', 'A760116', 'Dog', 'German Shepherd', 'Brown/Black', '2019-01-07T12:07:00.000', '2019-01-07T12:07:00.000', 'Austin (TX)', 'Normal', 'Owner Surrender', 'Jasmine', 'Spayed Female'),\n",
      " (3, '3 years', 'A789406', 'Cat', 'Domestic Shorthair Mix', 'Brown Tabby', '2019-02-21T14:55:00.000', '2019-02-21T14:55:00.000', 'Austin (TX)', 'Normal', 'Public Assist', 'Liliana', 'Intact Female'),\n",
      " (4, '4 years', 'A787054', 'Dog', 'Labrador Retriever Mix', 'Black/White', '2019-01-24T15:17:00.000', '2019-01-24T15:17:00.000', 'Austin (TX)', 'Normal', 'Owner Surrender', '*Rexx', 'Neutered Male'),\n",
      " (5, '10 years', 'A788104', 'Dog', 'Beagle Mix', 'Tricolor/Brown', '2019-01-26T14:04:00.000', '2019-01-26T14:04:00.000', '14200 Ranch Road 620 in Austin (TX)', 'Normal', 'Stray', 'Beaux', 'Neutered Male'),\n",
      " (6, '2 years', 'A786674', 'Dog', 'Australian Shepherd Mix', 'Red/White', '2019-02-05T15:45:00.000', '2019-02-05T15:45:00.000', 'Outside Jurisdiction', 'Normal', 'Owner Surrender', 'Max', 'Neutered Male'),\n",
      " (7, '9 years', 'A789316', 'Dog', 'Pomeranian', 'Red', '2019-02-19T12:04:00.000', '2019-02-19T12:04:00.000', 'Austin (TX)', 'Normal', 'Owner Surrender', 'Honey', 'Intact Female'),\n",
      " (8, '3 years', 'A788881', 'Dog', 'American Pit Bull Terrier Mix', 'Blue Tiger/White', '2019-02-10T16:32:00.000', '2019-02-10T16:32:00.000', 'Mckenzie Road And Fm 973 in Austin (TX)', 'Normal', 'Stray', 'Friend', 'Neutered Male'),\n",
      " (9, '2 years', 'A787302', 'Dog', 'Siberian Husky Mix', 'Gray/White', '2019-01-10T18:35:00.000', '2019-01-10T18:35:00.000', '7516 Peccary Drive in Austin (TX)', 'Normal', 'Stray', '*Sam', 'Neutered Male')]\n"
     ]
    }
   ],
   "source": [
    "intake = engine.execute('select * from austin_animal_intake').fetchall()[1:10]\n",
    "pprint(intake)"
   ]
  },
  {
   "cell_type": "markdown",
   "metadata": {},
   "source": [
    "# Code to convert address to lat/long and zip code, and add these three new columns to the intake database"
   ]
  },
  {
   "cell_type": "code",
   "execution_count": 16,
   "metadata": {},
   "outputs": [],
   "source": [
    "addresses = engine.execute('select animal_id, found_location from austin_animal_intake').fetchall()[1:200]"
   ]
  },
  {
   "cell_type": "code",
   "execution_count": 17,
   "metadata": {},
   "outputs": [
    {
     "name": "stdout",
     "output_type": "stream",
     "text": [
      "A787254\n"
     ]
    }
   ],
   "source": [
    "print(addresses[0].animal_id)"
   ]
  },
  {
   "cell_type": "code",
   "execution_count": 18,
   "metadata": {},
   "outputs": [],
   "source": [
    "add_geodata(addresses, engine)"
   ]
  },
  {
   "cell_type": "code",
   "execution_count": 19,
   "metadata": {},
   "outputs": [],
   "source": [
    "test_df = pd.read_sql_query(\"SELECT * FROM austin_animal_intake WHERE zipcode == 'None'\", con=engine)"
   ]
  },
  {
   "cell_type": "code",
   "execution_count": 20,
   "metadata": {},
   "outputs": [
    {
     "data": {
      "text/html": [
       "<div>\n",
       "<style scoped>\n",
       "    .dataframe tbody tr th:only-of-type {\n",
       "        vertical-align: middle;\n",
       "    }\n",
       "\n",
       "    .dataframe tbody tr th {\n",
       "        vertical-align: top;\n",
       "    }\n",
       "\n",
       "    .dataframe thead th {\n",
       "        text-align: right;\n",
       "    }\n",
       "</style>\n",
       "<table border=\"1\" class=\"dataframe\">\n",
       "  <thead>\n",
       "    <tr style=\"text-align: right;\">\n",
       "      <th></th>\n",
       "      <th>index</th>\n",
       "      <th>age_upon_intake</th>\n",
       "      <th>animal_id</th>\n",
       "      <th>animal_type</th>\n",
       "      <th>breed</th>\n",
       "      <th>color</th>\n",
       "      <th>datetime</th>\n",
       "      <th>datetime2</th>\n",
       "      <th>found_location</th>\n",
       "      <th>intake_condition</th>\n",
       "      <th>intake_type</th>\n",
       "      <th>name</th>\n",
       "      <th>sex_upon_intake</th>\n",
       "      <th>lat</th>\n",
       "      <th>long</th>\n",
       "      <th>zipcode</th>\n",
       "    </tr>\n",
       "  </thead>\n",
       "  <tbody>\n",
       "  </tbody>\n",
       "</table>\n",
       "</div>"
      ],
      "text/plain": [
       "Empty DataFrame\n",
       "Columns: [index, age_upon_intake, animal_id, animal_type, breed, color, datetime, datetime2, found_location, intake_condition, intake_type, name, sex_upon_intake, lat, long, zipcode]\n",
       "Index: []"
      ]
     },
     "execution_count": 20,
     "metadata": {},
     "output_type": "execute_result"
    }
   ],
   "source": [
    "test_df"
   ]
  },
  {
   "cell_type": "code",
   "execution_count": 40,
   "metadata": {},
   "outputs": [],
   "source": [
    "test_df.to_csv(\"Resources/test_intake_data.csv\")"
   ]
  },
  {
   "cell_type": "code",
   "execution_count": 41,
   "metadata": {},
   "outputs": [],
   "source": [
    "test2_df = pd.read_sql_query(\"SELECT * from austin_animal_outcomes\", con=engine)"
   ]
  },
  {
   "cell_type": "code",
   "execution_count": 42,
   "metadata": {},
   "outputs": [],
   "source": [
    "test2_df.to_csv(\"Resources/test_outcomes_data.csv\")"
   ]
  },
  {
   "cell_type": "code",
   "execution_count": 70,
   "metadata": {},
   "outputs": [],
   "source": [
    "select_str = \"select i.*, \\\n",
    "              o.age_upon_outcome, o.date_of_birth, o.datetime as outcome_datetime, \\\n",
    "              o.outcome_subtype, o.outcome_type, o.sex_upon_outcome, m.HouseholdIncome \\\n",
    "              from austin_animal_intake as i left join austin_animal_outcomes as o on i.animal_id = o.animal_id \\\n",
    "              inner join austin_income as m where i.zipcode = m.ZipCode\"\n",
    "              \n",
    "select_df = pd.read_sql_query(select_str, con=engine)"
   ]
  },
  {
   "cell_type": "code",
   "execution_count": 71,
   "metadata": {},
   "outputs": [
    {
     "data": {
      "text/html": [
       "<div>\n",
       "<style scoped>\n",
       "    .dataframe tbody tr th:only-of-type {\n",
       "        vertical-align: middle;\n",
       "    }\n",
       "\n",
       "    .dataframe tbody tr th {\n",
       "        vertical-align: top;\n",
       "    }\n",
       "\n",
       "    .dataframe thead th {\n",
       "        text-align: right;\n",
       "    }\n",
       "</style>\n",
       "<table border=\"1\" class=\"dataframe\">\n",
       "  <thead>\n",
       "    <tr style=\"text-align: right;\">\n",
       "      <th></th>\n",
       "      <th>index</th>\n",
       "      <th>age_upon_intake</th>\n",
       "      <th>animal_id</th>\n",
       "      <th>animal_type</th>\n",
       "      <th>breed</th>\n",
       "      <th>color</th>\n",
       "      <th>datetime</th>\n",
       "      <th>datetime2</th>\n",
       "      <th>found_location</th>\n",
       "      <th>intake_condition</th>\n",
       "      <th>...</th>\n",
       "      <th>lat</th>\n",
       "      <th>long</th>\n",
       "      <th>zipcode</th>\n",
       "      <th>age_upon_outcome</th>\n",
       "      <th>date_of_birth</th>\n",
       "      <th>outcome_datetime</th>\n",
       "      <th>outcome_subtype</th>\n",
       "      <th>outcome_type</th>\n",
       "      <th>sex_upon_outcome</th>\n",
       "      <th>HouseholdIncome</th>\n",
       "    </tr>\n",
       "  </thead>\n",
       "  <tbody>\n",
       "    <tr>\n",
       "      <th>0</th>\n",
       "      <td>1</td>\n",
       "      <td>3 days</td>\n",
       "      <td>A787254</td>\n",
       "      <td>Dog</td>\n",
       "      <td>Black Mouth Cur Mix</td>\n",
       "      <td>Black/White</td>\n",
       "      <td>2019-01-10T10:19:00.000</td>\n",
       "      <td>2019-01-10T10:19:00.000</td>\n",
       "      <td>2000 Man O War in Travis (TX)</td>\n",
       "      <td>Normal</td>\n",
       "      <td>...</td>\n",
       "      <td>30.3475374</td>\n",
       "      <td>-97.7216636</td>\n",
       "      <td>78757</td>\n",
       "      <td>2 months</td>\n",
       "      <td>2019-01-07T00:00:00.000</td>\n",
       "      <td>2019-03-19T11:00:00.000</td>\n",
       "      <td>Foster</td>\n",
       "      <td>Adoption</td>\n",
       "      <td>Spayed Female</td>\n",
       "      <td>$45,090.00</td>\n",
       "    </tr>\n",
       "    <tr>\n",
       "      <th>1</th>\n",
       "      <td>2</td>\n",
       "      <td>7 years</td>\n",
       "      <td>A760116</td>\n",
       "      <td>Dog</td>\n",
       "      <td>German Shepherd</td>\n",
       "      <td>Brown/Black</td>\n",
       "      <td>2019-01-07T12:07:00.000</td>\n",
       "      <td>2019-01-07T12:07:00.000</td>\n",
       "      <td>Austin (TX)</td>\n",
       "      <td>Normal</td>\n",
       "      <td>...</td>\n",
       "      <td>30.267153</td>\n",
       "      <td>-97.7430608</td>\n",
       "      <td>78702</td>\n",
       "      <td>7 years</td>\n",
       "      <td>2011-05-11T00:00:00.000</td>\n",
       "      <td>2019-01-10T19:20:00.000</td>\n",
       "      <td>None</td>\n",
       "      <td>Adoption</td>\n",
       "      <td>Spayed Female</td>\n",
       "      <td>$23,348.00</td>\n",
       "    </tr>\n",
       "    <tr>\n",
       "      <th>2</th>\n",
       "      <td>2</td>\n",
       "      <td>7 years</td>\n",
       "      <td>A760116</td>\n",
       "      <td>Dog</td>\n",
       "      <td>German Shepherd</td>\n",
       "      <td>Brown/Black</td>\n",
       "      <td>2019-01-07T12:07:00.000</td>\n",
       "      <td>2019-01-07T12:07:00.000</td>\n",
       "      <td>Austin (TX)</td>\n",
       "      <td>Normal</td>\n",
       "      <td>...</td>\n",
       "      <td>30.267153</td>\n",
       "      <td>-97.7430608</td>\n",
       "      <td>78702</td>\n",
       "      <td>7 years</td>\n",
       "      <td>2011-05-11T00:00:00.000</td>\n",
       "      <td>2019-02-09T13:14:00.000</td>\n",
       "      <td>None</td>\n",
       "      <td>Adoption</td>\n",
       "      <td>Spayed Female</td>\n",
       "      <td>$23,348.00</td>\n",
       "    </tr>\n",
       "    <tr>\n",
       "      <th>3</th>\n",
       "      <td>3</td>\n",
       "      <td>3 years</td>\n",
       "      <td>A789406</td>\n",
       "      <td>Cat</td>\n",
       "      <td>Domestic Shorthair Mix</td>\n",
       "      <td>Brown Tabby</td>\n",
       "      <td>2019-02-21T14:55:00.000</td>\n",
       "      <td>2019-02-21T14:55:00.000</td>\n",
       "      <td>Austin (TX)</td>\n",
       "      <td>Normal</td>\n",
       "      <td>...</td>\n",
       "      <td>30.267153</td>\n",
       "      <td>-97.7430608</td>\n",
       "      <td>78702</td>\n",
       "      <td>3 years</td>\n",
       "      <td>2015-08-21T00:00:00.000</td>\n",
       "      <td>2019-03-04T15:58:00.000</td>\n",
       "      <td>None</td>\n",
       "      <td>Return to Owner</td>\n",
       "      <td>Spayed Female</td>\n",
       "      <td>$23,348.00</td>\n",
       "    </tr>\n",
       "    <tr>\n",
       "      <th>4</th>\n",
       "      <td>4</td>\n",
       "      <td>4 years</td>\n",
       "      <td>A787054</td>\n",
       "      <td>Dog</td>\n",
       "      <td>Labrador Retriever Mix</td>\n",
       "      <td>Black/White</td>\n",
       "      <td>2019-01-24T15:17:00.000</td>\n",
       "      <td>2019-01-24T15:17:00.000</td>\n",
       "      <td>Austin (TX)</td>\n",
       "      <td>Normal</td>\n",
       "      <td>...</td>\n",
       "      <td>30.267153</td>\n",
       "      <td>-97.7430608</td>\n",
       "      <td>78702</td>\n",
       "      <td>4 years</td>\n",
       "      <td>2015-01-07T00:00:00.000</td>\n",
       "      <td>2019-01-20T15:02:00.000</td>\n",
       "      <td>None</td>\n",
       "      <td>Adoption</td>\n",
       "      <td>Neutered Male</td>\n",
       "      <td>$23,348.00</td>\n",
       "    </tr>\n",
       "  </tbody>\n",
       "</table>\n",
       "<p>5 rows × 23 columns</p>\n",
       "</div>"
      ],
      "text/plain": [
       "   index age_upon_intake animal_id animal_type                   breed  \\\n",
       "0      1          3 days   A787254         Dog     Black Mouth Cur Mix   \n",
       "1      2         7 years   A760116         Dog         German Shepherd   \n",
       "2      2         7 years   A760116         Dog         German Shepherd   \n",
       "3      3         3 years   A789406         Cat  Domestic Shorthair Mix   \n",
       "4      4         4 years   A787054         Dog  Labrador Retriever Mix   \n",
       "\n",
       "         color                 datetime                datetime2  \\\n",
       "0  Black/White  2019-01-10T10:19:00.000  2019-01-10T10:19:00.000   \n",
       "1  Brown/Black  2019-01-07T12:07:00.000  2019-01-07T12:07:00.000   \n",
       "2  Brown/Black  2019-01-07T12:07:00.000  2019-01-07T12:07:00.000   \n",
       "3  Brown Tabby  2019-02-21T14:55:00.000  2019-02-21T14:55:00.000   \n",
       "4  Black/White  2019-01-24T15:17:00.000  2019-01-24T15:17:00.000   \n",
       "\n",
       "                  found_location intake_condition       ...               lat  \\\n",
       "0  2000 Man O War in Travis (TX)           Normal       ...        30.3475374   \n",
       "1                    Austin (TX)           Normal       ...         30.267153   \n",
       "2                    Austin (TX)           Normal       ...         30.267153   \n",
       "3                    Austin (TX)           Normal       ...         30.267153   \n",
       "4                    Austin (TX)           Normal       ...         30.267153   \n",
       "\n",
       "          long zipcode age_upon_outcome            date_of_birth  \\\n",
       "0  -97.7216636   78757         2 months  2019-01-07T00:00:00.000   \n",
       "1  -97.7430608   78702          7 years  2011-05-11T00:00:00.000   \n",
       "2  -97.7430608   78702          7 years  2011-05-11T00:00:00.000   \n",
       "3  -97.7430608   78702          3 years  2015-08-21T00:00:00.000   \n",
       "4  -97.7430608   78702          4 years  2015-01-07T00:00:00.000   \n",
       "\n",
       "          outcome_datetime outcome_subtype     outcome_type sex_upon_outcome  \\\n",
       "0  2019-03-19T11:00:00.000          Foster         Adoption    Spayed Female   \n",
       "1  2019-01-10T19:20:00.000            None         Adoption    Spayed Female   \n",
       "2  2019-02-09T13:14:00.000            None         Adoption    Spayed Female   \n",
       "3  2019-03-04T15:58:00.000            None  Return to Owner    Spayed Female   \n",
       "4  2019-01-20T15:02:00.000            None         Adoption    Neutered Male   \n",
       "\n",
       "  HouseholdIncome  \n",
       "0      $45,090.00  \n",
       "1      $23,348.00  \n",
       "2      $23,348.00  \n",
       "3      $23,348.00  \n",
       "4      $23,348.00  \n",
       "\n",
       "[5 rows x 23 columns]"
      ]
     },
     "execution_count": 71,
     "metadata": {},
     "output_type": "execute_result"
    }
   ],
   "source": [
    "select_df.head()"
   ]
  },
  {
   "cell_type": "code",
   "execution_count": 73,
   "metadata": {},
   "outputs": [],
   "source": [
    "select_df.to_csv(\"Resources/fulldata.csv\")"
   ]
  },
  {
   "cell_type": "code",
   "execution_count": null,
   "metadata": {},
   "outputs": [],
   "source": []
  }
 ],
 "metadata": {
  "kernelspec": {
   "display_name": "Python 3",
   "language": "python",
   "name": "python3"
  },
  "language_info": {
   "codemirror_mode": {
    "name": "ipython",
    "version": 3
   },
   "file_extension": ".py",
   "mimetype": "text/x-python",
   "name": "python",
   "nbconvert_exporter": "python",
   "pygments_lexer": "ipython3",
   "version": "3.6.4"
  }
 },
 "nbformat": 4,
 "nbformat_minor": 2
}
